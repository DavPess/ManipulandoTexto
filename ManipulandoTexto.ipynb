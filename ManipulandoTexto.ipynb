{
  "nbformat": 4,
  "nbformat_minor": 0,
  "metadata": {
    "colab": {
      "provenance": [],
      "authorship_tag": "ABX9TyP0SOix+XEjmg7Q3bSeRckf",
      "include_colab_link": true
    },
    "kernelspec": {
      "name": "python3",
      "display_name": "Python 3"
    },
    "language_info": {
      "name": "python"
    }
  },
  "cells": [
    {
      "cell_type": "markdown",
      "metadata": {
        "id": "view-in-github",
        "colab_type": "text"
      },
      "source": [
        "<a href=\"https://colab.research.google.com/github/DavPess/ManipulandoTexto/blob/main/ManipulandoTexto.ipynb\" target=\"_parent\"><img src=\"https://colab.research.google.com/assets/colab-badge.svg\" alt=\"Open In Colab\"/></a>"
      ]
    },
    {
      "cell_type": "code",
      "execution_count": 73,
      "metadata": {
        "colab": {
          "base_uri": "https://localhost:8080/"
        },
        "id": "_xpWAauPaejs",
        "outputId": "c179716e-8214-4f04-98dc-d495caa6d524"
      },
      "outputs": [
        {
          "output_type": "stream",
          "name": "stdout",
          "text": [
            "21 Caracteres\n",
            "1\n",
            "True\n",
            "Curso em Video Android\n",
            "CURSO EM VIDEO PYTHON\n",
            "curso em video python\n",
            "Curso em video python\n",
            "Curso Em Video Python\n",
            "Curso em Video Python\n",
            "Curso em Video Python\n",
            "Curso em Video Python\n",
            "['Curso', 'em', 'Video', 'Python']\n",
            "C-u-r-s-o- -e-m- -V-i-d-e-o- -P-y-t-h-o-n\n"
          ]
        }
      ],
      "source": [
        "# MANIPULANDO TEXTOS\n",
        "frase = str(\"Curso em Video Python\")\n",
        "\n",
        "print(len(frase),\"Caracteres\")\n",
        "print(frase.count('Python'))\n",
        "#print(frase.find('Android))\n",
        "print('Python' in frase)\n",
        "print(frase.replace(\"Python\",\"Android\"))\n",
        "print(frase.upper())\n",
        "print(frase.lower())\n",
        "print(frase.capitalize())\n",
        "print(frase.title())\n",
        "print(frase.strip())\n",
        "print(frase.rstrip())\n",
        "print(frase.lstrip())\n",
        "print(frase.split())\n",
        "print(\"-\".join(frase))\n",
        "\n",
        "\n",
        "\n",
        "\n"
      ]
    },
    {
      "cell_type": "code",
      "source": [
        "#len(conta o comprimento da frase)\n",
        "#count(conta algo determinado)\n",
        "#find(encontra algo determinado)\n",
        "#in"
      ],
      "metadata": {
        "id": "eQN674Ywk0FV"
      },
      "execution_count": 43,
      "outputs": []
    },
    {
      "cell_type": "code",
      "source": [
        "#Funcionalidades de Transformação\n",
        "  #replace(reposicionar e substitui algo desejado)\n",
        "  #upper(acima, em maiúscula)\n",
        "  #lower(transforma em minúsculo)\n",
        "  #capitalize(coloca todos os caracteres em minúsculo, apenas o primeiro caracter em maiúsculo)\n",
        "  #title(deixa todas as iniciais das palavras em maiúsculo)\n",
        "  #strip(retira os \"espaços\" colocados no inicio e final das frases)\n",
        "  #rstrip(remove espaços à direita)\n",
        "  #lstrip(remove espaços à esquerda)\n"
      ],
      "metadata": {
        "id": "CZ7T8JSyn3QE"
      },
      "execution_count": null,
      "outputs": []
    },
    {
      "cell_type": "code",
      "source": [
        "#Funcionalidades de DIVISÃO e JUNÇÃO\n",
        "  #split(gera uma lista com a cadeia de caracteres)\n",
        "  #join(junta)"
      ],
      "metadata": {
        "id": "BbGVOvksrBkb"
      },
      "execution_count": null,
      "outputs": []
    },
    {
      "cell_type": "code",
      "source": [],
      "metadata": {
        "id": "sqXafuGbrpjV"
      },
      "execution_count": null,
      "outputs": []
    }
  ]
}