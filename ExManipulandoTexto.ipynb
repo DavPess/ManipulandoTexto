{
  "nbformat": 4,
  "nbformat_minor": 0,
  "metadata": {
    "colab": {
      "provenance": [],
      "authorship_tag": "ABX9TyPqYK1nuyaY2fH0fcYRE2+G",
      "include_colab_link": true
    },
    "kernelspec": {
      "name": "python3",
      "display_name": "Python 3"
    },
    "language_info": {
      "name": "python"
    }
  },
  "cells": [
    {
      "cell_type": "markdown",
      "metadata": {
        "id": "view-in-github",
        "colab_type": "text"
      },
      "source": [
        "<a href=\"https://colab.research.google.com/github/DavPess/ManipulandoTexto/blob/main/ExManipulandoTexto.ipynb\" target=\"_parent\"><img src=\"https://colab.research.google.com/assets/colab-badge.svg\" alt=\"Open In Colab\"/></a>"
      ]
    },
    {
      "cell_type": "code",
      "execution_count": null,
      "metadata": {
        "id": "B0KbPNlIs4YB"
      },
      "outputs": [],
      "source": [
        "\n",
        "#022 Crie um programa que leia o nome completo da pessoa e mostre:\n",
        "  #O nome com todas as letras maiúsculas\n",
        "  #O nome com todas minúsculas\n",
        "  #Quantas letras ao todo(sem considerar os espaços)\n",
        "  #Quantas letras tem o primeiro nome.\n",
        "\n",
        "\n",
        "\n",
        "nome = str(input(\"Digite seu nome completo: \"))\n",
        "dividido = nome.split()\n",
        "espaco = nome.replace(\" \", \"\")\n",
        "print(nome.upper())\n",
        "print(nome.lower())\n",
        "print(len(nome))\n",
        "print(len(dividido[0]))\n",
        "print(len(espaco))\n"
      ]
    },
    {
      "cell_type": "code",
      "source": [
        "#023 Faça um programa que leia um numero de 0 a 9999e mostre na tela cada um dos digitos e separados\n",
        "  #Unidade:\n",
        "  #Dezena\n",
        "  #Centena\n",
        "  #Milhar\n",
        "num = input(\"Digite um número: \")\n",
        "dividido = num.split()\n",
        "print(dividido[0])"
      ],
      "metadata": {
        "colab": {
          "base_uri": "https://localhost:8080/"
        },
        "id": "-NsBfpsmPben",
        "outputId": "7078dd2c-6a85-48da-9d2a-ff95d8c774dd"
      },
      "execution_count": 45,
      "outputs": [
        {
          "output_type": "stream",
          "name": "stdout",
          "text": [
            "Digite um número: 1234\n",
            "1234\n"
          ]
        }
      ]
    },
    {
      "cell_type": "code",
      "source": [],
      "metadata": {
        "id": "nr0jWo3FXWhG"
      },
      "execution_count": 65,
      "outputs": []
    },
    {
      "cell_type": "code",
      "source": [
        "#024 Crie um programa que leia o nome de uma cidade e diga se ela começa com a palavra \"SANTO\"\n",
        "nome = input(\"Digite o nome da cidade: \")\n",
        "cidade = nome.title().split()\n",
        "print(\"Possui SANTO?\")\n",
        "print('Santo' in cidade[0])"
      ],
      "metadata": {
        "id": "62NFiQcgSQdf"
      },
      "execution_count": null,
      "outputs": []
    },
    {
      "cell_type": "code",
      "source": [
        "#025 Crie um programa que leia o nome de uma pessoa e diga se ela tem \"SILVA\" no nome\n",
        "nome = input(\"Digite o nome completo: \")\n",
        "maiusculo = nome.title()\n",
        "print(\"Possui SILVA?\")\n",
        "print('Silva' in maiusculo)"
      ],
      "metadata": {
        "id": "9tbW8S7HVdqR"
      },
      "execution_count": null,
      "outputs": []
    },
    {
      "cell_type": "code",
      "source": [
        "#026 Faça um programa que leia a frase pelo teclado e mostre: \n",
        "  #Quantas vezes aparece a letra \"A\"\n",
        "  #Em que posição ela aparece a primeira\n",
        "  #Em que posição aparece a última\n",
        "\n",
        "nome = input(\"Digite algo: \")\n",
        "m = nome.upper()\n",
        "print(m.count('A'))\n",
        "print(m.find('A'))\n"
      ],
      "metadata": {
        "id": "COlR2fiUX9oB"
      },
      "execution_count": null,
      "outputs": []
    },
    {
      "cell_type": "code",
      "source": [
        "#027 Faça um programa que leia o primeiro e o ultimo nome de uma pessoa separadamente\n",
        "nome = input(\"Digite seu nome completo: \")\n",
        "nomec = len(nome)\n",
        "dividido = nome.split()\n",
        "print(dividido[])"
      ],
      "metadata": {
        "id": "7nqL1Ce4cKXV"
      },
      "execution_count": null,
      "outputs": []
    }
  ]
}